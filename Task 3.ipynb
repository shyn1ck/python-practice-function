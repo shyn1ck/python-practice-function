{
 "cells": [
  {
   "cell_type": "markdown",
   "metadata": {
    "id": "Nqa_aLzLJ7PT"
   },
   "source": [
    "## Домашнее задание. День 3\n"
   ]
  },
  {
   "cell_type": "markdown",
   "metadata": {
    "id": "8rdbANMOJ7Qf"
   },
   "source": [
    "### Задача 1. Определение времени\n",
    "\n",
    "Напишите функцию `get_time()`, которая принимает аргумент со строкой — временем в формате `'hh:mm'`. Разбейте аргумент на два целых числа: часы и минуты. Верните их в том же порядке, выводом на экран."
   ]
  },
  {
   "cell_type": "code",
   "metadata": {
    "id": "kldguVjkJ7Qk",
    "ExecuteTime": {
     "end_time": "2024-10-27T09:34:08.761545Z",
     "start_time": "2024-10-27T09:34:08.755956Z"
    }
   },
   "source": [
    "# Решение\n",
    "def get_time(time_str):\n",
    "    hours, minutes = map(int, time_str.split(':'))\n",
    "    print(hours, minutes)\n",
    "\n",
    "get_time('12:45')"
   ],
   "outputs": [
    {
     "name": "stdout",
     "output_type": "stream",
     "text": [
      "12 45\n"
     ]
    }
   ],
   "execution_count": 1
  },
  {
   "cell_type": "markdown",
   "metadata": {
    "id": "y2kO9-X5J7Qr"
   },
   "source": [
    "### Задача 2. Обработка музыкальных треков\n",
    "\n",
    "1) Напишите функцию `song_duration()`, которая:\n",
    "- принимает аргумент-строку с длительностью трека в формате `mm:ss`;\n",
    "- возвращает True, если длительность меньше 210 секунд. Иначе возвращает False.\n",
    "\n",
    "Внутри своей функции вызовите `get_min_sec()`, которая позволит извлечь количество минут и секунд из строки.\n",
    "\n",
    "2) Создайте список `tracks` который хранит о продолжительности пяти треков: `2:25, 2:35, 3:45, 2:00, 5:10`.\n",
    "\n",
    "3) Создайте цикл, который проверит длительность треков из списка `tracks`. Цикл должен вывести на экран результат работы функции `song_duration()` для каждого элемента списка."
   ]
  },
  {
   "cell_type": "code",
   "metadata": {
    "id": "39M1_oR8J7Qu",
    "ExecuteTime": {
     "end_time": "2024-10-27T09:36:12.511573Z",
     "start_time": "2024-10-27T09:36:12.503808Z"
    }
   },
   "source": [
    "# Решение\n",
    "def get_min_sec(duration_str):\n",
    "    minutes, seconds = map(int, duration_str.split(':'))\n",
    "    return minutes, seconds\n",
    "\n",
    "def song_duration(duration_str):\n",
    "    minutes, seconds = get_min_sec(duration_str)\n",
    "    total_seconds = minutes * 60 + seconds\n",
    "    return total_seconds < 210\n",
    "\n",
    "tracks = ['2:25', '2:35', '3:45', '2:00', '5:10']\n",
    "\n",
    "for track in tracks:\n",
    "    print(song_duration(track))"
   ],
   "outputs": [
    {
     "name": "stdout",
     "output_type": "stream",
     "text": [
      "True\n",
      "True\n",
      "False\n",
      "True\n",
      "False\n"
     ]
    }
   ],
   "execution_count": 2
  },
  {
   "cell_type": "markdown",
   "metadata": {
    "id": "0Z9mkpomJ7Qx"
   },
   "source": [
    "#### Задача 3. Свой собственный калькулятор\n",
    "\n",
    "1) Напишите программу на Python для создания калькулятора. Создайте функции для выполнения основных арифметических операций: сложение, вычитание, умножение и деление. Программа должна предоставлять пользователю возможность вводить два числа и выбирать операцию.\n",
    "\n",
    "2) Создайте функции `addition`, `subtraction`, `multiplication` и `division` для выполнения соответствующих арифметических операций.\n",
    "\n",
    "3) Напишите функцию calculator, которая принимает числа и операцию, вызывает соответствующую функцию и выводит результат.\n",
    "В основной части программы позвольте пользователю вводить два числа и выбирать операцию (сложение, вычитание, умножение или деление).\n",
    "\n",
    "4) Обработайте возможные ошибки, такие как деление на ноль или ввод некорректных данных.\n",
    "\n",
    "**Пример вывода:**"
   ]
  },
  {
   "cell_type": "code",
   "execution_count": null,
   "metadata": {
    "id": "lxts300iAyhS"
   },
   "outputs": [],
   "source": [
    "# Введите первое число: 10\n",
    "# Введите второе число: 5\n",
    "# Выберите операцию (+, -, *, /): +\n",
    "# \n",
    "# Результат сложения: 15"
   ]
  },
  {
   "cell_type": "code",
   "metadata": {
    "id": "wu3de-AwBAqe",
    "ExecuteTime": {
     "end_time": "2024-10-27T09:39:20.094101Z",
     "start_time": "2024-10-27T09:39:12.000094Z"
    }
   },
   "source": [
    "# Решение\n",
    "def addition(a, b):\n",
    "    return a + b\n",
    "\n",
    "\n",
    "def subtraction(a, b):\n",
    "    return a - b\n",
    "\n",
    "\n",
    "def multiplication(a, b):\n",
    "    return a * b\n",
    "\n",
    "\n",
    "def division(a, b):\n",
    "    if b == 0:\n",
    "        return \"Ошибка: деление на ноль\"\n",
    "    return a / b\n",
    "\n",
    "\n",
    "def calculator(num1, num2, operation):\n",
    "    if operation == '+':\n",
    "        return addition(num1, num2)\n",
    "    elif operation == '-':\n",
    "        return subtraction(num1, num2)\n",
    "    elif operation == '*':\n",
    "        return multiplication(num1, num2)\n",
    "    elif operation == '/':\n",
    "        return division(num1, num2)\n",
    "    else:\n",
    "        return \"Ошибка: некорректная операция\"\n",
    "\n",
    "\n",
    "try:\n",
    "    num1 = float(input(\"Введите первое число: \"))\n",
    "    num2 = float(input(\"Введите второе число: \"))\n",
    "\n",
    "    operation = input(\"Выберите операцию (+, -, *, /): \")\n",
    "\n",
    "    result = calculator(num1, num2, operation)\n",
    "    print(\"Результат:\", result)\n",
    "\n",
    "except ValueError:\n",
    "    print(\"Ошибка: введите числовое значение.\")"
   ],
   "outputs": [
    {
     "name": "stdout",
     "output_type": "stream",
     "text": [
      "Результат: 0.5\n"
     ]
    }
   ],
   "execution_count": 3
  },
  {
   "cell_type": "markdown",
   "metadata": {},
   "source": [
    "### Доп.задача 1: Счетчик частоты элементов в списке.\n",
    "\n",
    "Напиши функцию `count_elements(lst)`, которая принимает список чисел и возвращает словарь, где ключи — это уникальные элементы списка, а значения — количество их появлений в списке."
   ]
  },
  {
   "cell_type": "code",
   "metadata": {
    "ExecuteTime": {
     "end_time": "2024-10-27T09:41:11.088800Z",
     "start_time": "2024-10-27T09:41:11.082740Z"
    }
   },
   "source": [
    "# Решение\n",
    "def count_elements(lst):\n",
    "    element_count = {}\n",
    "    for elem in lst:\n",
    "        if elem in element_count:\n",
    "            element_count[elem] += 1\n",
    "        else:\n",
    "            element_count[elem] = 1\n",
    "    return element_count\n",
    "\n",
    "numbers = [1, 2, 2, 3, 3, 3, 4, 4, 4, 4]\n",
    "print(count_elements(numbers)) "
   ],
   "outputs": [
    {
     "name": "stdout",
     "output_type": "stream",
     "text": [
      "{1: 1, 2: 2, 3: 3, 4: 4}\n"
     ]
    }
   ],
   "execution_count": 4
  },
  {
   "cell_type": "markdown",
   "metadata": {},
   "source": [
    "### Доп. задача 2: Сумма чисел в словаре по ключам.\n",
    "\n",
    "Напиши функцию `sum_by_key(data)`, которая принимает список словарей, каждый из которых содержит одинаковые ключи с числовыми значениями. Функция должна возвращать словарь, где ключи такие же, как в исходных словарях, а значения — сумма чисел для каждого ключа из всех словарей."
   ]
  },
  {
   "cell_type": "code",
   "metadata": {
    "ExecuteTime": {
     "end_time": "2024-10-27T09:44:23.165190Z",
     "start_time": "2024-10-27T09:44:23.154344Z"
    }
   },
   "source": [
    "# Решение\n",
    "def sum_by_key(data):\n",
    "    result = {}\n",
    "    for d in data:\n",
    "        for key, value in d.items():\n",
    "            if key in result:\n",
    "                result[key] += value\n",
    "            else:\n",
    "                result[key] = value\n",
    "    return result\n",
    "\n",
    "data = [\n",
    "    {\"a\": 1, \"b\": 2, \"c\": 3},\n",
    "    {\"a\": 4, \"b\": 5, \"c\": 6},\n",
    "    {\"a\": 7, \"b\": 8, \"c\": 9}\n",
    "]\n",
    "print(sum_by_key(data))"
   ],
   "outputs": [
    {
     "name": "stdout",
     "output_type": "stream",
     "text": [
      "{'a': 12, 'b': 15, 'c': 18}\n"
     ]
    }
   ],
   "execution_count": 5
  },
  {
   "cell_type": "markdown",
   "metadata": {},
   "source": [
    "### Доп. задача 3: Преобразование строк в заглавные\n",
    "\n",
    "1) Изучите безымянную функцию `lambda x`\n",
    "2) Изучите работу функции `map()` и `upper()`\n",
    "3) Напишите функцию `convert_strings_to_upper(lst)`, которая принимает список строк и возвращает новый список, где все строки преобразованы в заглавные буквы. Для реализации используйте обычные функции и отдельно безымянную `lambda`."
   ]
  },
  {
   "cell_type": "code",
   "metadata": {
    "ExecuteTime": {
     "end_time": "2024-10-27T09:46:57.492558Z",
     "start_time": "2024-10-27T09:46:57.485984Z"
    }
   },
   "source": [
    "# Подход с обычной функцией\n",
    "strings = [\"hello\", \"world\", \"python\"]\n",
    "\n",
    "def convert_strings_to_upper(lst):\n",
    "    def to_upper(s):\n",
    "        return s.upper()\n",
    "\n",
    "    return list(map(to_upper, lst))\n",
    "\n",
    "print(convert_strings_to_upper(strings))"
   ],
   "outputs": [
    {
     "name": "stdout",
     "output_type": "stream",
     "text": [
      "['HELLO', 'WORLD', 'PYTHON']\n"
     ]
    }
   ],
   "execution_count": 7
  },
  {
   "cell_type": "code",
   "metadata": {
    "ExecuteTime": {
     "end_time": "2024-10-27T09:46:59.464133Z",
     "start_time": "2024-10-27T09:46:59.459541Z"
    }
   },
   "source": [
    "# Подход с безымянной функцией\n",
    "strings = [\"hello\", \"world\", \"python\"]\n",
    "\n",
    "def convert_strings_to_upper_lambda(lst):\n",
    "    return list(map(lambda x: x.upper(), lst))\n",
    "\n",
    "print(convert_strings_to_upper_lambda(strings))"
   ],
   "outputs": [
    {
     "name": "stdout",
     "output_type": "stream",
     "text": [
      "['HELLO', 'WORLD', 'PYTHON']\n"
     ]
    }
   ],
   "execution_count": 8
  }
 ],
 "metadata": {
  "colab": {
   "provenance": [
    {
     "file_id": "1LmHsb8kD9kcDr0rFwSPofxNRQac4h0H_",
     "timestamp": 1706379738314
    }
   ]
  },
  "kernelspec": {
   "display_name": "base",
   "language": "python",
   "name": "python3"
  },
  "language_info": {
   "codemirror_mode": {
    "name": "ipython",
    "version": 3
   },
   "file_extension": ".py",
   "mimetype": "text/x-python",
   "name": "python",
   "nbconvert_exporter": "python",
   "pygments_lexer": "ipython3",
   "version": "3.12.4"
  },
  "orig_nbformat": 4
 },
 "nbformat": 4,
 "nbformat_minor": 0
}
